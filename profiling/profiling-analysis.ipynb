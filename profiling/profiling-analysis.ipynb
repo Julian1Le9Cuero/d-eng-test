{
 "cells": [
  {
   "cell_type": "markdown",
   "metadata": {},
   "source": [
    "## Profiling analysis"
   ]
  },
  {
   "cell_type": "code",
   "execution_count": 1,
   "metadata": {},
   "outputs": [],
   "source": [
    "import pandas as pd"
   ]
  },
  {
   "cell_type": "code",
   "execution_count": 2,
   "metadata": {},
   "outputs": [],
   "source": [
    "full_data=pd.read_json('../json/data.json')"
   ]
  },
  {
   "cell_type": "markdown",
   "metadata": {},
   "source": [
    "Only 3 columns have missing values: `runtime`, `image`, and `summary`. I think that `image` and `summary` are ok becauase they are optional to have some data. It would be useful to research why `runtime` has missing values and if there is any way to make the data more complete"
   ]
  },
  {
   "cell_type": "code",
   "execution_count": null,
   "metadata": {},
   "outputs": [
    {
     "name": "stdout",
     "output_type": "stream",
     "text": [
      "id            0.000000\n",
      "url           0.000000\n",
      "name          0.000000\n",
      "season        0.000000\n",
      "number        0.000000\n",
      "type          0.000000\n",
      "airdate       0.000000\n",
      "airtime       0.000000\n",
      "airstamp      0.000000\n",
      "runtime      15.706806\n",
      "rating        0.000000\n",
      "image        76.963351\n",
      "summary      63.350785\n",
      "_links        0.000000\n",
      "_embedded     0.000000\n",
      "dtype: float64\n"
     ]
    }
   ],
   "source": [
    "missing_percentage = (full_data.isnull().sum() / len(full_data)) * 100\n",
    "print(missing_percentage)"
   ]
  },
  {
   "cell_type": "markdown",
   "metadata": {},
   "source": [
    "Overall, data types seem to be correct, but some columns columns need corrections like `airstamp` and `airdate` (dates) as well as `rating`, which is represented as JSON but can be stored as a float value."
   ]
  },
  {
   "cell_type": "code",
   "execution_count": 4,
   "metadata": {},
   "outputs": [
    {
     "name": "stdout",
     "output_type": "stream",
     "text": [
      "<class 'pandas.core.frame.DataFrame'>\n",
      "RangeIndex: 191 entries, 0 to 190\n",
      "Data columns (total 15 columns):\n",
      " #   Column     Non-Null Count  Dtype  \n",
      "---  ------     --------------  -----  \n",
      " 0   id         191 non-null    int64  \n",
      " 1   url        191 non-null    object \n",
      " 2   name       191 non-null    object \n",
      " 3   season     191 non-null    int64  \n",
      " 4   number     191 non-null    int64  \n",
      " 5   type       191 non-null    object \n",
      " 6   airdate    191 non-null    object \n",
      " 7   airtime    191 non-null    object \n",
      " 8   airstamp   191 non-null    object \n",
      " 9   runtime    161 non-null    float64\n",
      " 10  rating     191 non-null    object \n",
      " 11  image      44 non-null     object \n",
      " 12  summary    70 non-null     object \n",
      " 13  _links     191 non-null    object \n",
      " 14  _embedded  191 non-null    object \n",
      "dtypes: float64(1), int64(3), object(11)\n",
      "memory usage: 22.5+ KB\n",
      "None\n"
     ]
    }
   ],
   "source": [
    "print(full_data.info())"
   ]
  },
  {
   "cell_type": "markdown",
   "metadata": {},
   "source": [
    "The column `summary` could be cleaned by removing the HTML tags which are not needed, and the `image` column could be split in two other column given that its JSON structure is stable across the observations"
   ]
  },
  {
   "cell_type": "code",
   "execution_count": 7,
   "metadata": {},
   "outputs": [
    {
     "data": {
      "text/html": [
       "<div>\n",
       "<style scoped>\n",
       "    .dataframe tbody tr th:only-of-type {\n",
       "        vertical-align: middle;\n",
       "    }\n",
       "\n",
       "    .dataframe tbody tr th {\n",
       "        vertical-align: top;\n",
       "    }\n",
       "\n",
       "    .dataframe thead th {\n",
       "        text-align: right;\n",
       "    }\n",
       "</style>\n",
       "<table border=\"1\" class=\"dataframe\">\n",
       "  <thead>\n",
       "    <tr style=\"text-align: right;\">\n",
       "      <th></th>\n",
       "      <th>id</th>\n",
       "      <th>url</th>\n",
       "      <th>name</th>\n",
       "      <th>season</th>\n",
       "      <th>number</th>\n",
       "      <th>type</th>\n",
       "      <th>airdate</th>\n",
       "      <th>airtime</th>\n",
       "      <th>airstamp</th>\n",
       "      <th>runtime</th>\n",
       "      <th>rating</th>\n",
       "      <th>image</th>\n",
       "      <th>summary</th>\n",
       "      <th>_links</th>\n",
       "      <th>_embedded</th>\n",
       "    </tr>\n",
       "  </thead>\n",
       "  <tbody>\n",
       "    <tr>\n",
       "      <th>188</th>\n",
       "      <td>2731565</td>\n",
       "      <td>https://www.tvmaze.com/episodes/2731565/maine-...</td>\n",
       "      <td>A Twofer in West Gardiner</td>\n",
       "      <td>9</td>\n",
       "      <td>8</td>\n",
       "      <td>regular</td>\n",
       "      <td>2024-01-01</td>\n",
       "      <td>21:00</td>\n",
       "      <td>2024-01-02T02:00:00+00:00</td>\n",
       "      <td>60.0</td>\n",
       "      <td>{'average': None}</td>\n",
       "      <td>{'medium': 'https://static.tvmaze.com/uploads/...</td>\n",
       "      <td>&lt;p&gt;The Maine Cabin Masters update a pair of ca...</td>\n",
       "      <td>{'self': {'href': 'https://api.tvmaze.com/epis...</td>\n",
       "      <td>{'show': {'id': 23972, 'url': 'https://www.tvm...</td>\n",
       "    </tr>\n",
       "    <tr>\n",
       "      <th>189</th>\n",
       "      <td>2732336</td>\n",
       "      <td>https://www.tvmaze.com/episodes/2732336/alle-e...</td>\n",
       "      <td>Stor, lykkelig familie</td>\n",
       "      <td>5</td>\n",
       "      <td>1</td>\n",
       "      <td>regular</td>\n",
       "      <td>2024-01-01</td>\n",
       "      <td>03:00</td>\n",
       "      <td>2024-01-02T02:00:00+00:00</td>\n",
       "      <td>20.0</td>\n",
       "      <td>{'average': None}</td>\n",
       "      <td>None</td>\n",
       "      <td>&lt;p&gt;David and Andrea will organize Norway's big...</td>\n",
       "      <td>{'self': {'href': 'https://api.tvmaze.com/epis...</td>\n",
       "      <td>{'show': {'id': 54476, 'url': 'https://www.tvm...</td>\n",
       "    </tr>\n",
       "    <tr>\n",
       "      <th>190</th>\n",
       "      <td>3045036</td>\n",
       "      <td>https://www.tvmaze.com/episodes/3045036/making...</td>\n",
       "      <td>Derrick Todd Lee</td>\n",
       "      <td>2</td>\n",
       "      <td>1</td>\n",
       "      <td>regular</td>\n",
       "      <td>2024-01-01</td>\n",
       "      <td>00:00</td>\n",
       "      <td>2024-01-02T05:00:00+00:00</td>\n",
       "      <td>43.0</td>\n",
       "      <td>{'average': None}</td>\n",
       "      <td>{'medium': 'https://static.tvmaze.com/uploads/...</td>\n",
       "      <td>&lt;p&gt;Derrick Todd Lee, known as the Baton Rouge ...</td>\n",
       "      <td>{'self': {'href': 'https://api.tvmaze.com/epis...</td>\n",
       "      <td>{'show': {'id': 69960, 'url': 'https://www.tvm...</td>\n",
       "    </tr>\n",
       "  </tbody>\n",
       "</table>\n",
       "</div>"
      ],
      "text/plain": [
       "          id                                                url  \\\n",
       "188  2731565  https://www.tvmaze.com/episodes/2731565/maine-...   \n",
       "189  2732336  https://www.tvmaze.com/episodes/2732336/alle-e...   \n",
       "190  3045036  https://www.tvmaze.com/episodes/3045036/making...   \n",
       "\n",
       "                          name  season  number     type     airdate airtime  \\\n",
       "188  A Twofer in West Gardiner       9       8  regular  2024-01-01   21:00   \n",
       "189     Stor, lykkelig familie       5       1  regular  2024-01-01   03:00   \n",
       "190           Derrick Todd Lee       2       1  regular  2024-01-01   00:00   \n",
       "\n",
       "                      airstamp  runtime             rating  \\\n",
       "188  2024-01-02T02:00:00+00:00     60.0  {'average': None}   \n",
       "189  2024-01-02T02:00:00+00:00     20.0  {'average': None}   \n",
       "190  2024-01-02T05:00:00+00:00     43.0  {'average': None}   \n",
       "\n",
       "                                                 image  \\\n",
       "188  {'medium': 'https://static.tvmaze.com/uploads/...   \n",
       "189                                               None   \n",
       "190  {'medium': 'https://static.tvmaze.com/uploads/...   \n",
       "\n",
       "                                               summary  \\\n",
       "188  <p>The Maine Cabin Masters update a pair of ca...   \n",
       "189  <p>David and Andrea will organize Norway's big...   \n",
       "190  <p>Derrick Todd Lee, known as the Baton Rouge ...   \n",
       "\n",
       "                                                _links  \\\n",
       "188  {'self': {'href': 'https://api.tvmaze.com/epis...   \n",
       "189  {'self': {'href': 'https://api.tvmaze.com/epis...   \n",
       "190  {'self': {'href': 'https://api.tvmaze.com/epis...   \n",
       "\n",
       "                                             _embedded  \n",
       "188  {'show': {'id': 23972, 'url': 'https://www.tvm...  \n",
       "189  {'show': {'id': 54476, 'url': 'https://www.tvm...  \n",
       "190  {'show': {'id': 69960, 'url': 'https://www.tvm...  "
      ]
     },
     "execution_count": 7,
     "metadata": {},
     "output_type": "execute_result"
    }
   ],
   "source": [
    "full_data.tail(3)"
   ]
  },
  {
   "attachments": {
    "image.png": {
     "image/png": "[encoded data removed]"
    }
   },
   "cell_type": "markdown",
   "metadata": {},
   "source": [
    "Columns like type and airdate only have one value, these means that they might be removed, but I would keep both in case they change in the future. Also, the airdate column maybe necessary to store the date in case we may want to add more observations from this API in the future.\n",
    "![image.png](attachment:image.png)"
   ]
  },
  {
   "cell_type": "markdown",
   "metadata": {},
   "source": [
    "An analysis about interactions and correlations is not needed because we are not checking variables for a model. The check was only needed to inspect the quality of the data. As a result, some adjustments will be done towards the data so that is a more complete and correct format for posterior analysis or usage."
   ]
  }
 ],
 "metadata": {
  "kernelspec": {
   "display_name": ".venv",
   "language": "python",
   "name": "python3"
  },
  "language_info": {
   "codemirror_mode": {
    "name": "ipython",
    "version": 3
   },
   "file_extension": ".py",
   "mimetype": "text/x-python",
   "name": "python",
   "nbconvert_exporter": "python",
   "pygments_lexer": "ipython3",
   "version": "3.11.3"
  }
 },
 "nbformat": 4,
 "nbformat_minor": 2
}
